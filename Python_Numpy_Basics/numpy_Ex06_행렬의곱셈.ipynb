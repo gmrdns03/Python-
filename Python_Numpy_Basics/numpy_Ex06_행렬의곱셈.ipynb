{
 "cells": [
  {
   "cell_type": "code",
   "execution_count": 1,
   "metadata": {},
   "outputs": [],
   "source": [
    "import numpy as np"
   ]
  },
  {
   "cell_type": "code",
   "execution_count": 2,
   "metadata": {},
   "outputs": [
    {
     "name": "stdout",
     "output_type": "stream",
     "text": [
      "[[ 6  3]\n",
      " [12  6]]\n"
     ]
    }
   ],
   "source": [
    "#행렬의 곱_곱셈을 하기 전에 앞의 행과 뒤의 열의 갯수가 같은지 확인\n",
    "a = np.array([[0,1,2],\n",
    "             [1,2,3]])\n",
    "b = np.array([[2,1],\n",
    "             [2,1],\n",
    "            [2,1]])\n",
    "print(np.dot(a,b))"
   ]
  },
  {
   "cell_type": "code",
   "execution_count": 3,
   "metadata": {},
   "outputs": [
    {
     "name": "stdout",
     "output_type": "stream",
     "text": [
      "[[ 2  4  1]\n",
      " [ 8 13 10]\n",
      " [14 22 19]]\n"
     ]
    }
   ],
   "source": [
    "a = np.array([[0,1,2],\n",
    "             [3,4,5],\n",
    "             [6,7,8]])\n",
    "b = np.array([[0,1,2],\n",
    "             [2,0,1],\n",
    "             [0,2,0]])\n",
    "print(np.dot(a, b))"
   ]
  },
  {
   "cell_type": "code",
   "execution_count": 4,
   "metadata": {},
   "outputs": [
    {
     "name": "stdout",
     "output_type": "stream",
     "text": [
      "[[ 2  4  2]\n",
      " [ 8 16  8]\n",
      " [14 28 14]]\n"
     ]
    }
   ],
   "source": [
    "#행렬의 곱\n",
    "c = np.array([[0,1,2],\n",
    "             [3,4,5],\n",
    "             [6,7,8]])\n",
    "d = np.array([[0,2,0],\n",
    "             [2,0,2],\n",
    "             [0,2,0]])\n",
    "print(np.dot(c,d))"
   ]
  },
  {
   "cell_type": "code",
   "execution_count": null,
   "metadata": {},
   "outputs": [],
   "source": []
  }
 ],
 "metadata": {
  "kernelspec": {
   "display_name": "Python 3",
   "language": "python",
   "name": "python3"
  },
  "language_info": {
   "codemirror_mode": {
    "name": "ipython",
    "version": 3
   },
   "file_extension": ".py",
   "mimetype": "text/x-python",
   "name": "python",
   "nbconvert_exporter": "python",
   "pygments_lexer": "ipython3",
   "version": "3.6.5"
  }
 },
 "nbformat": 4,
 "nbformat_minor": 2
}
