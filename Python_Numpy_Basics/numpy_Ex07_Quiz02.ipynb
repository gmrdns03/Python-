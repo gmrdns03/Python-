{
 "cells": [
  {
   "cell_type": "markdown",
   "metadata": {},
   "source": [
    "# 실습 과제\n",
    "일본에는 한식 열풍이 불고 있습니다. 기회를 엿본 영훈이는 대기업을 퇴사하고 신주쿠에 프랜차이즈 '흥부부대찌개'가맹점을 열었다.\n",
    "\n",
    "보수적인 아버지께서는 번듯한 직장을 박차고 나온 영훈이가 못마땅하다. 아버지를 안심시키기 위해 매달 매출을 보고하려고 하는데, 엔화로 저장한 매출 데이터를 원화로 변환하는 작업이 필요하다.\n",
    "\n",
    "마침 numpy를 배운 우리가 도와줄수 있을 것 같다. 엔화 매출이 담겨있는 파이썬 리스트가 주어졌다. 1엔에 10.08원이라 가정하고, 원화 매출이 담긴 numpy array를 만들어 출력해달라.\n",
    "\n",
    "for 반복문 사용금지"
   ]
  },
  {
   "cell_type": "code",
   "execution_count": 39,
   "metadata": {},
   "outputs": [
    {
     "name": "stdout",
     "output_type": "stream",
     "text": [
      "[3024000. 3427200. 3225600. 3628800. 4435200. 1411200. 1814400. 3427200.\n",
      " 3326400. 2923200. 2822400. 3830400. 1713600. 1411200. 2318400. 3931200.\n",
      " 4032000. 3528000. 3830400. 1512000. 1108800. 2419200. 3830400. 3830400.\n",
      " 3427200. 4233600. 1512000. 1310400. 3628800. 3225600. 2520000.]\n",
      "\n",
      "<class 'numpy.ndarray'>\n",
      "\n",
      "최대매출: 4,435,200원\n",
      "최소매출: 1,108,800원\n"
     ]
    }
   ],
   "source": [
    "import numpy as np\n",
    "\n",
    "revenue_in_yen = [\n",
    "    300000, 340000, 320000, 360000, \n",
    "    440000, 140000, 180000, 340000, \n",
    "    330000, 290000, 280000, 380000, \n",
    "    170000, 140000, 230000, 390000, \n",
    "    400000, 350000, 380000, 150000, \n",
    "    110000, 240000, 380000, 380000, \n",
    "    340000, 420000, 150000, 130000, \n",
    "    360000, 320000, 250000\n",
    "]\n",
    "\n",
    "\n",
    "Y = 10.08\n",
    "revenue_in_yen = np.array(revenue_in_yen)\n",
    "revenue_in_won = revenue_in_yen * Y\n",
    "print(revenue_in_won)\n",
    "print()\n",
    "print(type(revenue_in_won))\n",
    "print()\n",
    "\n",
    "y= int(np.max(revenue_in_won))\n",
    "x = int(np.min(revenue_in_won))\n",
    "print(f'최대매출: {y:,}원')\n",
    "print(f'최소매출: {x:,}원')"
   ]
  },
  {
   "cell_type": "code",
   "execution_count": 40,
   "metadata": {},
   "outputs": [
    {
     "name": "stdout",
     "output_type": "stream",
     "text": [
      "[3024000. 3427200. 3225600. 3628800. 4435200. 1411200. 1814400. 3427200.\n",
      " 3326400. 2923200. 2822400. 3830400. 1713600. 1411200. 2318400. 3931200.\n",
      " 4032000. 3528000. 3830400. 1512000. 1108800. 2419200. 3830400. 3830400.\n",
      " 3427200. 4233600. 1512000. 1310400. 3628800. 3225600. 2520000.]\n",
      "\n",
      "<class 'numpy.ndarray'>\n",
      "\n",
      "최대매출: 4,435,200원\n",
      "최소매출: 1,108,800원\n"
     ]
    }
   ],
   "source": [
    "import numpy as np\n",
    "\n",
    "revenue_in_yen = [\n",
    "    300000, 340000, 320000, 360000, \n",
    "    440000, 140000, 180000, 340000, \n",
    "    330000, 290000, 280000, 380000, \n",
    "    170000, 140000, 230000, 390000, \n",
    "    400000, 350000, 380000, 150000, \n",
    "    110000, 240000, 380000, 380000, \n",
    "    340000, 420000, 150000, 130000, \n",
    "    360000, 320000, 250000\n",
    "]\n",
    "\n",
    "\n",
    "Y = 10.08\n",
    "revenue_in_yen = np.array(revenue_in_yen)\n",
    "revenue_in_won = revenue_in_yen * Y\n",
    "print(revenue_in_won)\n",
    "print()\n",
    "print(type(revenue_in_won))\n",
    "print()\n",
    "\n",
    "y= revenue_in_won.astype(np.int64)\n",
    "\n",
    "yy = np.max(y)\n",
    "xx = np.min(y)\n",
    "\n",
    "\n",
    "print(f'최대매출: {yy:,}원')\n",
    "print(f'최소매출: {xx:,}원')"
   ]
  },
  {
   "cell_type": "code",
   "execution_count": null,
   "metadata": {},
   "outputs": [],
   "source": []
  }
 ],
 "metadata": {
  "kernelspec": {
   "display_name": "Python 3",
   "language": "python",
   "name": "python3"
  },
  "language_info": {
   "codemirror_mode": {
    "name": "ipython",
    "version": 3
   },
   "file_extension": ".py",
   "mimetype": "text/x-python",
   "name": "python",
   "nbconvert_exporter": "python",
   "pygments_lexer": "ipython3",
   "version": "3.6.5"
  }
 },
 "nbformat": 4,
 "nbformat_minor": 2
}
