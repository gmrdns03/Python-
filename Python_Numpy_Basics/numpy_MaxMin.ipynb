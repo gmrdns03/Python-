{
 "cells": [
  {
   "cell_type": "code",
   "execution_count": 1,
   "metadata": {},
   "outputs": [],
   "source": [
    "import numpy as np"
   ]
  },
  {
   "cell_type": "code",
   "execution_count": 3,
   "metadata": {},
   "outputs": [
    {
     "name": "stdout",
     "output_type": "stream",
     "text": [
      "31\n",
      "5\n",
      "15.25\n"
     ]
    }
   ],
   "source": [
    "array1 = np.array([14,6,13,21,23,31,9,5])\n",
    "\n",
    "print(array1.max())     #최댓값\n",
    "print(array1.min())      #최솟값\n",
    "print(array1.mean())    #평균값"
   ]
  },
  {
   "cell_type": "code",
   "execution_count": 6,
   "metadata": {},
   "outputs": [
    {
     "name": "stdout",
     "output_type": "stream",
     "text": [
      "12.0\n",
      "13.5\n"
     ]
    }
   ],
   "source": [
    "#중앙값 median()\n",
    "array1 = np.array([8,12,9,15,16])\n",
    "array2 = np.array([14,6,13,21,23,31,9,5])\n",
    "\n",
    "print(np.median(array1))  #홀수 중앙값\n",
    "print(np.median(array2))  #짝수 중앙값\n",
    "\n",
    "#짝수개의 요소가 있기 때문에 중앙값이 13과 14두개이다. 이 둘의 평균이 중앙값이 된다."
   ]
  },
  {
   "cell_type": "code",
   "execution_count": null,
   "metadata": {},
   "outputs": [],
   "source": []
  }
 ],
 "metadata": {
  "kernelspec": {
   "display_name": "Python 3",
   "language": "python",
   "name": "python3"
  },
  "language_info": {
   "codemirror_mode": {
    "name": "ipython",
    "version": 3
   },
   "file_extension": ".py",
   "mimetype": "text/x-python",
   "name": "python",
   "nbconvert_exporter": "python",
   "pygments_lexer": "ipython3",
   "version": "3.6.5"
  }
 },
 "nbformat": 4,
 "nbformat_minor": 2
}
