{
 "cells": [
  {
   "cell_type": "code",
   "execution_count": 10,
   "metadata": {},
   "outputs": [],
   "source": [
    "import pandas as pd\n",
    "\n",
    "df_depDB = pd.read_csv('./../data/deptDB.csv')\n",
    "df_sawonDB = pd.read_csv('./../data/sawonDB.csv')\n",
    "df_gogekDB = pd.read_csv('./../data/gogekDB.csv')\n",
    "\n",
    "\n",
    "df_depDB.columns = ['deptno', 'dname', 'loc']\n",
    "df_sawonDB.columns = ['sabun', 'saname', 'deptno', 'sajob', 'sapay', 'sahire', 'sasex', 'samgr']\n",
    "df_gogekDB.columns = ['gobun', 'goname', 'gotel', 'gojumin', 'godam']\n",
    "\n",
    "df_depDB = df_depDB.replace(\"'\", \" \", regex=True)\n",
    "df_sawonDB = df_sawonDB.replace(\"'\", \" \", regex=True)\n",
    "df_gogekDB = df_gogekDB.replace(\"'\", \" \", regex=True)"
   ]
  },
  {
   "cell_type": "code",
   "execution_count": 13,
   "metadata": {},
   "outputs": [
    {
     "data": {
      "text/html": [
       "<div>\n",
       "<style scoped>\n",
       "    .dataframe tbody tr th:only-of-type {\n",
       "        vertical-align: middle;\n",
       "    }\n",
       "\n",
       "    .dataframe tbody tr th {\n",
       "        vertical-align: top;\n",
       "    }\n",
       "\n",
       "    .dataframe thead th {\n",
       "        text-align: right;\n",
       "    }\n",
       "</style>\n",
       "<table border=\"1\" class=\"dataframe\">\n",
       "  <thead>\n",
       "    <tr style=\"text-align: right;\">\n",
       "      <th></th>\n",
       "      <th>sabun</th>\n",
       "      <th>saname</th>\n",
       "      <th>deptno</th>\n",
       "      <th>sajob</th>\n",
       "      <th>sapay</th>\n",
       "      <th>sahire</th>\n",
       "      <th>sasex</th>\n",
       "      <th>samgr</th>\n",
       "    </tr>\n",
       "  </thead>\n",
       "  <tbody>\n",
       "    <tr>\n",
       "      <th>0</th>\n",
       "      <td>2</td>\n",
       "      <td>한국남</td>\n",
       "      <td>20</td>\n",
       "      <td>부장</td>\n",
       "      <td>3000</td>\n",
       "      <td>1988/11/01</td>\n",
       "      <td>남자</td>\n",
       "      <td>1</td>\n",
       "    </tr>\n",
       "    <tr>\n",
       "      <th>8</th>\n",
       "      <td>19</td>\n",
       "      <td>임꺽정</td>\n",
       "      <td>20</td>\n",
       "      <td>사원</td>\n",
       "      <td>2200</td>\n",
       "      <td>1988/04/01</td>\n",
       "      <td>남자</td>\n",
       "      <td>7</td>\n",
       "    </tr>\n",
       "    <tr>\n",
       "      <th>13</th>\n",
       "      <td>10</td>\n",
       "      <td>공부해</td>\n",
       "      <td>30</td>\n",
       "      <td>사원</td>\n",
       "      <td>1303</td>\n",
       "      <td>1988/11/01</td>\n",
       "      <td>남자</td>\n",
       "      <td>4</td>\n",
       "    </tr>\n",
       "  </tbody>\n",
       "</table>\n",
       "</div>"
      ],
      "text/plain": [
       "    sabun  saname  deptno  sajob  sapay         sahire  sasex  samgr\n",
       "0       2    한국남       20    부장    3000    1988/11/01     남자       1\n",
       "8      19    임꺽정       20    사원    2200    1988/04/01     남자       7\n",
       "13     10    공부해       30    사원    1303    1988/11/01     남자       4"
      ]
     },
     "execution_count": 13,
     "metadata": {},
     "output_type": "execute_result"
    }
   ],
   "source": [
    "lst88 = []\n",
    "for idx in range(len(df_sawonDB)):\n",
    "    lst88.append(df_sawonDB['sahire'].str.strip()[idx][0:4] == '1988')\n",
    "    \n",
    "df_sawonDB.loc[lst88]"
   ]
  },
  {
   "cell_type": "code",
   "execution_count": null,
   "metadata": {},
   "outputs": [],
   "source": []
  }
 ],
 "metadata": {
  "kernelspec": {
   "display_name": "Python 3",
   "language": "python",
   "name": "python3"
  },
  "language_info": {
   "codemirror_mode": {
    "name": "ipython",
    "version": 3
   },
   "file_extension": ".py",
   "mimetype": "text/x-python",
   "name": "python",
   "nbconvert_exporter": "python",
   "pygments_lexer": "ipython3",
   "version": "3.6.5"
  }
 },
 "nbformat": 4,
 "nbformat_minor": 2
}
